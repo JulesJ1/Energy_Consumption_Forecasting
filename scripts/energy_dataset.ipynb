{
 "cells": [
  {
   "cell_type": "code",
   "execution_count": null,
   "metadata": {},
   "outputs": [],
   "source": [
    "import pandas as pd\n",
    "import matplotlib.pyplot as plt\n",
    "from sklearn.model_selection import TimeSeriesSplit\n",
    "import seaborn\n",
    "\n",
    "df = pd.read_csv(\"../datasets/energy_dataset.csv\")\n",
    "print(df.columns)\n",
    "#print(df.head)\n",
    "columns = [\"generation hydro pumped storage aggregated\", \"forecast wind offshore eday ahead\", \"generation fossil coal-derived gas\", \"generation wind offshore\", \"generation marine\", \"generation geothermal\",\n",
    "\"generation fossil peat\",\"generation fossil oil shale\",\"forecast solar day ahead\",\"forecast wind onshore day ahead\"]\n",
    "df = df.drop(columns,axis = 1)\n",
    "#plt.matshow(df.corr())\n",
    "df.fillna(df.interpolate(method=\"linear\"),inplace=True)\n",
    "#plt.show()\n",
    "#df.mean()\n",
    "#df.var()\n",
    "df[\"time\"] = pd.to_datetime(df[\"time\"],format = \"%Y-%m-%d %H:%M:%S\")\n",
    "df['time'] = df['time'].apply(lambda x: x.replace(tzinfo=None))\n",
    "df[\"time\"] = pd.to_datetime(df[\"time\"],format=\"ISO8601\")\n",
    "df[\"year\"] = df[\"time\"].dt.year\n",
    "df[\"month\"] = df[\"time\"].dt.month\n",
    "df[\"week\"] = df[\"time\"].dt.weekday\n",
    "df = df.set_index('time')\n",
    "print(df[\"week\"].value_counts(0)) \n"
   ]
  },
  {
   "cell_type": "code",
   "execution_count": null,
   "metadata": {},
   "outputs": [],
   "source": [
    "#rename columns \n",
    "\n",
    "columns = []\n",
    "for name in df.columns:\n",
    "\n",
    "    if \"generation\" in name:\n",
    "        renamed =  name.replace(\"generation\",\"\")\n",
    "        df = df.rename(columns = {name: renamed})\n",
    "\n",
    "df.columns"
   ]
  },
  {
   "cell_type": "code",
   "execution_count": null,
   "metadata": {},
   "outputs": [],
   "source": [
    "\"\"\"splitting data\"\"\"\n",
    "print(df.columns)\n",
    "x = df.drop(\"total load actual\",axis = 1)\n",
    "y = df[\"total load actual\"]\n",
    "tss = TimeSeriesSplit(n_splits=2)\n",
    "print(tss)\n",
    "for train,test in tss.split(df):\n",
    "    trainx, testx = x.iloc[train,:], x.iloc[test,:]\n",
    "    trainy, testy = y.iloc[train], y.iloc[test]\n",
    "\n",
    "len(testx)\n",
    "\n",
    "\n",
    "\n",
    "\n"
   ]
  },
  {
   "cell_type": "code",
   "execution_count": null,
   "metadata": {},
   "outputs": [],
   "source": [
    "corr = df.corr()\n",
    "corr.style.background_gradient(cmap='coolwarm')"
   ]
  },
  {
   "cell_type": "code",
   "execution_count": null,
   "metadata": {},
   "outputs": [],
   "source": []
  },
  {
   "cell_type": "code",
   "execution_count": null,
   "metadata": {},
   "outputs": [],
   "source": [
    "def boxplots(time_period):\n",
    "    fig,axs = plt.subplots(figsize=(10,8))\n",
    "    data = zip(df[time_period], df[\"total load actual\"])\n",
    "    seaborn.boxplot(data = df,x = time_period,y = \"total load actual\", ax = axs)\n",
    "    axs.tick_params(axis='x', colors='white')\n",
    "    axs.tick_params(axis='y', colors='white')\n",
    "    axs.set_title(\"total load actual\",color = \"white\")\n",
    "\n",
    "    plt.show()\n",
    "\n",
    "boxplots(\"month\")"
   ]
  },
  {
   "cell_type": "code",
   "execution_count": null,
   "metadata": {},
   "outputs": [],
   "source": [
    "def feature_plot(feature):\n",
    "    plt.figure(figsize=(8, 6))\n",
    "    plt.tick_params(axis='x', colors='white')\n",
    "    plt.tick_params(axis='y', colors='white')\n",
    "    plt.plot(df.index, df[feature])\n",
    "\n",
    "def multi_plot(features):\n",
    "    fig,axs = plt.subplots(len(features),figsize=(16,48))\n",
    "    for x in range(len(features)):\n",
    "        axs[x].plot(df.index, df[features[x]])\n",
    "        axs[x].set_title(features[x],color = \"white\")\n",
    "        axs[x].tick_params(axis='x', colors='white')\n",
    "        axs[x].tick_params(axis='y', colors='white')\n",
    "        \n",
    "    fig.tight_layout()\n",
    "\n",
    "feature_plot(\"total load actual\")\n",
    "#multi_plot([\"generation biomass\",\"generation fossil brown coal/lignite\",\"generation fossil gas\"])\n",
    "\n"
   ]
  },
  {
   "cell_type": "code",
   "execution_count": null,
   "metadata": {},
   "outputs": [],
   "source": [
    "#plot all features\n",
    "fig = plt.figure(figsize=(30,18))\n",
    "ax = fig.add_subplot(2, 1, 1)\n",
    "for column in df:\n",
    "    ax.plot(df.index, df[column])\n",
    "ax.tick_params(axis='x', colors='white')\n",
    "ax.tick_params(axis='y', colors='white')\n",
    "ax.set_yscale(\"log\")\n",
    "ax.legend()"
   ]
  }
 ],
 "metadata": {
  "kernelspec": {
   "display_name": "Python 3.6.4 ('base')",
   "language": "python",
   "name": "python3"
  },
  "language_info": {
   "codemirror_mode": {
    "name": "ipython",
    "version": 3
   },
   "file_extension": ".py",
   "mimetype": "text/x-python",
   "name": "python",
   "nbconvert_exporter": "python",
   "pygments_lexer": "ipython3",
   "version": "3.6.4"
  },
  "orig_nbformat": 4,
  "vscode": {
   "interpreter": {
    "hash": "88279d2366fe020547cde40dd65aa0e3aa662a6ec1f3ca12d88834876c85e1a6"
   }
  }
 },
 "nbformat": 4,
 "nbformat_minor": 2
}
