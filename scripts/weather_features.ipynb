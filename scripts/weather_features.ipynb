{
 "cells": [
  {
   "cell_type": "code",
   "execution_count": 2,
   "metadata": {},
   "outputs": [],
   "source": [
    "import pandas as pd\n",
    "import matplotlib.pyplot as plt\n",
    "import requests\n",
    "from astral.sun import sun\n",
    "from astral import LocationInfo\n",
    "import data as energy\n",
    "from datetime import datetime, timedelta  \n",
    "from dotenv import load_dotenv\n",
    "import os  "
   ]
  },
  {
   "cell_type": "code",
   "execution_count": null,
   "metadata": {},
   "outputs": [],
   "source": [
    "\n",
    "import requests\n",
    "import json\n",
    "import pandas as pd\n",
    "from io import StringIO  \n",
    "\n",
    "now = datetime.utcnow() + timedelta(hours=2)    \n",
    "\n",
    "prevhour = now - timedelta(hours=169)\n",
    "starttime = prevhour.strftime(\"%Y-%m-%d %H:00:00\")\n",
    "endtime = now.strftime(\"%Y-%m-%d %H:00:00\")\n",
    "#endtime = now.strftime(f\"%Y-%m-%d {}:00:00\")\n",
    "print(endtime)\n",
    "params = {\n",
    "    \"starttime\":f\"{starttime}\",\n",
    "    \"endtime\":f\"{endtime}\",\n",
    "}\n",
    "\n",
    "data = requests.post(\"http://localhost:8000/energydata\",json=params)\n",
    "\n",
    "datadf = pd.DataFrame.from_dict(data.json())\n",
    "datadf.index = pd.to_datetime(datadf.index)\n",
    "datadf.index = pd.to_datetime(datadf.index, format=\"iso\")\n",
    "datadf.index = datadf.index.tz_localize(None)\n",
    "\n",
    "datadf"
   ]
  },
  {
   "cell_type": "code",
   "execution_count": null,
   "metadata": {},
   "outputs": [],
   "source": [
    "starttime = pd.Timestamp(starttime, tz = 'Europe/Madrid' )\n",
    "endtime  = pd.Timestamp(endtime, tz = 'Europe/Madrid' )\n",
    "endtime\n"
   ]
  },
  {
   "cell_type": "code",
   "execution_count": 13,
   "metadata": {},
   "outputs": [
    {
     "data": {
      "text/plain": [
       "'2024-07-19 11:00:00'"
      ]
     },
     "execution_count": 13,
     "metadata": {},
     "output_type": "execute_result"
    }
   ],
   "source": [
    "now = datetime.utcnow()    \n",
    "now.strftime(\"%Y-%m-%d %H:00:00\")"
   ]
  },
  {
   "cell_type": "code",
   "execution_count": null,
   "metadata": {},
   "outputs": [],
   "source": [
    "params2 = {\n",
    "    \"Lastwindow\":datadf.to_json(date_format=\"iso\"),\n",
    "    \"steps\":48,\n",
    "}\n",
    "#\"http://127.0.0.1:8000/predict\"\n",
    "data2 = requests.post(\"http://localhost:8000/predict\",json=params2)\n",
    "\n",
    "data2.content"
   ]
  },
  {
   "cell_type": "code",
   "execution_count": null,
   "metadata": {},
   "outputs": [],
   "source": [
    "data2 = pd.DataFrame.from_dict(data2.json(),orient=\"index\")\n",
    "data2.index = pd.to_datetime(data2.index)\n",
    "data2"
   ]
  },
  {
   "cell_type": "code",
   "execution_count": 3,
   "metadata": {},
   "outputs": [],
   "source": [
    "now = datetime.now()\n",
    "prevhour = now - timedelta(hours=12)\n",
    "starttime = prevhour.strftime(\"%Y-%m-%d %H:00:00\")\n",
    "endtime = now.strftime(\"%Y-%m-%d %H:00:00\")\n",
    "\n",
    "starttime\n",
    "endtime\n",
    "\n",
    "df = energy.energy_api(starttime,endtime=endtime)"
   ]
  },
  {
   "cell_type": "code",
   "execution_count": null,
   "metadata": {},
   "outputs": [],
   "source": [
    "load_dotenv()\n",
    "api_key = api_key= os.getenv(\"WEATHER_API_KEY\")\n",
    "key = \"\"\n",
    "r = requests.get(f\"https://api.openweathermap.org/data/3.0/onecall?lat=40.416775&lon=-3.703790&exclude=current,minutely,daily,alerts&appid={key}\")\n",
    "r.json()"
   ]
  },
  {
   "cell_type": "code",
   "execution_count": null,
   "metadata": {},
   "outputs": [],
   "source": [
    "r.json()"
   ]
  },
  {
   "cell_type": "code",
   "execution_count": null,
   "metadata": {},
   "outputs": [],
   "source": [
    "r2 = r.json()\n",
    "df = pd.json_normalize(r2[\"hourly\"])\n",
    "df.columns"
   ]
  },
  {
   "cell_type": "code",
   "execution_count": null,
   "metadata": {},
   "outputs": [],
   "source": [
    "df.head"
   ]
  },
  {
   "cell_type": "code",
   "execution_count": null,
   "metadata": {},
   "outputs": [],
   "source": [
    "r2 = r.json()\n",
    "df = pd.json_normalize(r2[\"hourly\"])\n",
    "df2 = pd.concat([df[\"dt\"],df[\"temp\"]],axis=1)\n",
    "df2[\"dt\"] = pd.to_datetime(df2[\"dt\"],unit='s')\n",
    "df2 = df2.set_index('dt')\n",
    "df2.head"
   ]
  },
  {
   "cell_type": "code",
   "execution_count": null,
   "metadata": {},
   "outputs": [],
   "source": [
    "exo = data.create_features(df2,df2)\n",
    "exo.head"
   ]
  },
  {
   "cell_type": "code",
   "execution_count": 5,
   "metadata": {},
   "outputs": [],
   "source": [
    "weather_df = pd.read_csv(\"../../weatherhistoric.csv\")\n",
    "weather_df.columns"
   ]
  },
  {
   "cell_type": "code",
   "execution_count": null,
   "metadata": {},
   "outputs": [],
   "source": [
    "weather_df.head"
   ]
  },
  {
   "cell_type": "code",
   "execution_count": 55,
   "metadata": {},
   "outputs": [],
   "source": [
    "weather = pd.DataFrame\n",
    "f = open(\"../datasets/weather_updated.csv\", \"w\")\n",
    "f.truncate()\n",
    "f.close()\n",
    "\n",
    "skiplength = 385\n",
    "freq = 24\n",
    "curr=0\n",
    "i = 0\n",
    "\n",
    "while(curr < len(weather_df)): \n",
    "    if curr == 0:\n",
    "        weather_df.iloc[curr:curr + freq,:].to_csv(\"../datasets/weather_updated.csv\", mode=\"a\",header = True)   \n",
    "    else: \n",
    "        weather_df.iloc[curr:curr + freq,:].to_csv(\"../datasets/weather_updated.csv\", mode=\"a\",header = False)\n",
    "    curr += skiplength*4\n",
    "    "
   ]
  },
  {
   "cell_type": "code",
   "execution_count": null,
   "metadata": {},
   "outputs": [],
   "source": [
    "weather2 = pd.read_csv(\"../datasets/weather_updated.csv\")\n",
    "weather2 = weather2[[\"slice dt unixtime\",\"temperature\"]]\n",
    "weather2[\"slice dt unixtime\"] = pd.to_datetime(weather2[\"slice dt unixtime\"],unit='s')\n",
    "weather2.set_index(\"slice dt unixtime\",inplace =True)\n",
    "weather2.head"
   ]
  }
 ],
 "metadata": {
  "kernelspec": {
   "display_name": "Python 3.9.13 ('Energy_Generation-GIFzPpK6')",
   "language": "python",
   "name": "python3"
  },
  "language_info": {
   "codemirror_mode": {
    "name": "ipython",
    "version": 3
   },
   "file_extension": ".py",
   "mimetype": "text/x-python",
   "name": "python",
   "nbconvert_exporter": "python",
   "pygments_lexer": "ipython3",
   "version": "3.9.13"
  },
  "orig_nbformat": 4,
  "vscode": {
   "interpreter": {
    "hash": "201b8dff2e4c8c134d0877b5f008017789b0b414666b7ead251a12a07ca1a43f"
   }
  }
 },
 "nbformat": 4,
 "nbformat_minor": 2
}
