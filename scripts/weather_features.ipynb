{
 "cells": [
  {
   "cell_type": "code",
   "execution_count": 2,
   "metadata": {},
   "outputs": [],
   "source": [
    "import pandas as pd\n",
    "import matplotlib.pyplot as plt\n",
    "import requests\n",
    "from astral.sun import sun\n",
    "from astral import LocationInfo\n",
    "import data\n",
    "from datetime import datetime, timedelta    "
   ]
  },
  {
   "cell_type": "code",
   "execution_count": null,
   "metadata": {},
   "outputs": [],
   "source": [
    "now = datetime.now()\n",
    "prevhour = now - timedelta(hours=12)\n",
    "starttime = prevhour.strftime(\"%Y-%m-%d %H:00:00\")\n",
    "endtime = now.strftime(\"%Y-%m-%d %H:00:00\")\n",
    "\n",
    "starttime\n",
    "endtime\n",
    "\n",
    "df = data.energy_api(starttime,endtime=endtime)"
   ]
  },
  {
   "cell_type": "code",
   "execution_count": 6,
   "metadata": {},
   "outputs": [],
   "source": [
    "r = requests.get(\"https://api.openweathermap.org/data/3.0/onecall?lat=40.416775&lon=-3.703790&exclude=current,minutely,daily,alerts&appid=55194385c9175281575e04c124e2fdbc\")"
   ]
  },
  {
   "cell_type": "code",
   "execution_count": null,
   "metadata": {},
   "outputs": [],
   "source": [
    "r.json()"
   ]
  },
  {
   "cell_type": "code",
   "execution_count": null,
   "metadata": {},
   "outputs": [],
   "source": [
    "r2 = r.json()\n",
    "df = pd.json_normalize(r2[\"hourly\"])\n",
    "df2 = pd.concat([df[\"dt\"],df[\"temp\"]],axis=1)\n",
    "df2[\"dt\"] = pd.to_datetime(df2[\"dt\"],unit='s')\n",
    "df2 = df2.set_index('dt')\n",
    "df2.head"
   ]
  },
  {
   "cell_type": "code",
   "execution_count": null,
   "metadata": {},
   "outputs": [],
   "source": [
    "exo = data.create_features(df2,df2)\n",
    "exo.head"
   ]
  },
  {
   "cell_type": "code",
   "execution_count": 5,
   "metadata": {},
   "outputs": [],
   "source": [
    "weather_df = pd.read_csv(\"../../weatherhistoric.csv\")\n",
    "weather_df.columns"
   ]
  },
  {
   "cell_type": "code",
   "execution_count": null,
   "metadata": {},
   "outputs": [],
   "source": [
    "weather_df.head"
   ]
  },
  {
   "cell_type": "code",
   "execution_count": 55,
   "metadata": {},
   "outputs": [],
   "source": [
    "weather = pd.DataFrame\n",
    "f = open(\"../datasets/weather_updated.csv\", \"w\")\n",
    "f.truncate()\n",
    "f.close()\n",
    "\n",
    "skiplength = 385\n",
    "freq = 24\n",
    "curr=0\n",
    "i = 0\n",
    "\n",
    "while(curr < len(weather_df)): \n",
    "    if curr == 0:\n",
    "        weather_df.iloc[curr:curr + freq,:].to_csv(\"../datasets/weather_updated.csv\", mode=\"a\",header = True)   \n",
    "    else: \n",
    "        weather_df.iloc[curr:curr + freq,:].to_csv(\"../datasets/weather_updated.csv\", mode=\"a\",header = False)\n",
    "    curr += skiplength*4\n",
    "    "
   ]
  },
  {
   "cell_type": "code",
   "execution_count": null,
   "metadata": {},
   "outputs": [],
   "source": [
    "weather2 = pd.read_csv(\"../datasets/weather_updated.csv\")\n",
    "weather2 = weather2[[\"slice dt unixtime\",\"temperature\"]]\n",
    "weather2[\"slice dt unixtime\"] = pd.to_datetime(weather2[\"slice dt unixtime\"],unit='s')\n",
    "weather2.set_index(\"slice dt unixtime\",inplace =True)\n",
    "weather2.head"
   ]
  }
 ],
 "metadata": {
  "kernelspec": {
   "display_name": "Python 3.9.13 64-bit",
   "language": "python",
   "name": "python3"
  },
  "language_info": {
   "codemirror_mode": {
    "name": "ipython",
    "version": 3
   },
   "file_extension": ".py",
   "mimetype": "text/x-python",
   "name": "python",
   "nbconvert_exporter": "python",
   "pygments_lexer": "ipython3",
   "version": "3.9.13"
  },
  "orig_nbformat": 4,
  "vscode": {
   "interpreter": {
    "hash": "81794d4967e6c3204c66dcd87b604927b115b27c00565d3d43f05ba2f3a2cb0d"
   }
  }
 },
 "nbformat": 4,
 "nbformat_minor": 2
}
