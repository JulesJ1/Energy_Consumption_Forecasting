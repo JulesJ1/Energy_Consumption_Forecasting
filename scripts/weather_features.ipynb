{
 "cells": [
  {
   "cell_type": "code",
   "execution_count": 1,
   "metadata": {},
   "outputs": [
    {
     "data": {
      "text/plain": [
       "temp          6.441987e+01\n",
       "temp_min      6.328984e+01\n",
       "temp_max      7.417436e+01\n",
       "pressure      3.563650e+07\n",
       "humidity      4.797365e+02\n",
       "wind_speed    4.392838e+00\n",
       "wind_deg      1.359834e+04\n",
       "rain_1h       1.590792e-01\n",
       "rain_3h       5.312144e-05\n",
       "snow_3h       4.955247e-02\n",
       "clouds_all    9.470470e+02\n",
       "weather_id    1.182291e+04\n",
       "dtype: float64"
      ]
     },
     "execution_count": 1,
     "metadata": {},
     "output_type": "execute_result"
    }
   ],
   "source": [
    "import pandas as pd\n",
    "import matplotlib.pyplot as plt\n",
    "\n",
    "df = pd.read_csv(\"../datasets/weather_features.csv\")\n",
    "df.var()"
   ]
  }
 ],
 "metadata": {
  "kernelspec": {
   "display_name": "Python 3.8.8",
   "language": "python",
   "name": "python3"
  },
  "language_info": {
   "codemirror_mode": {
    "name": "ipython",
    "version": 3
   },
   "file_extension": ".py",
   "mimetype": "text/x-python",
   "name": "python",
   "nbconvert_exporter": "python",
   "pygments_lexer": "ipython3",
   "version": "3.8.8"
  },
  "orig_nbformat": 4,
  "vscode": {
   "interpreter": {
    "hash": "a0fb1f1e2eb8088bdef6c76bb8f161394bb734260e583e6951dca025aa3e8405"
   }
  }
 },
 "nbformat": 4,
 "nbformat_minor": 2
}
