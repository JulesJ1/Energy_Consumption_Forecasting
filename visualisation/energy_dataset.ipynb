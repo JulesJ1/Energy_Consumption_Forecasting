{
 "cells": [
  {
   "cell_type": "code",
   "execution_count": null,
   "metadata": {},
   "outputs": [],
   "source": [
    "import pandas as pd\n",
    "import matplotlib.pyplot as plt\n",
    "\n",
    "df = pd.read_csv(\"../../energy_dataset.csv\")\n",
    "print(df.columns)\n",
    "print(df.head)\n",
    "columns = [\"generation hydro pumped storage aggregated\", \"forecast wind offshore eday ahead\", \"generation fossil coal-derived gas\", \"generation wind offshore\", \"generation marine\", \"generation geothermal\",\n",
    "\"generation fossil peat\",\"generation fossil oil shale\"]\n",
    "df = df.drop(columns,axis = 1)\n",
    "#plt.matshow(df.corr())\n",
    "df.fillna(df.interpolate(method=\"linear\"),inplace=True)\n",
    "#plt.show()\n",
    "#df.mean()\n",
    "#df.var()\n",
    "corr = df.corr()\n",
    "corr.style.background_gradient(cmap='coolwarm')\n",
    "print(\"\")"
   ]
  },
  {
   "cell_type": "code",
   "execution_count": null,
   "metadata": {},
   "outputs": [],
   "source": []
  }
 ],
 "metadata": {
  "kernelspec": {
   "display_name": "Python 3.8.8",
   "language": "python",
   "name": "python3"
  },
  "language_info": {
   "codemirror_mode": {
    "name": "ipython",
    "version": 3
   },
   "file_extension": ".py",
   "mimetype": "text/x-python",
   "name": "python",
   "nbconvert_exporter": "python",
   "pygments_lexer": "ipython3",
   "version": "3.8.8"
  },
  "orig_nbformat": 4,
  "vscode": {
   "interpreter": {
    "hash": "a0fb1f1e2eb8088bdef6c76bb8f161394bb734260e583e6951dca025aa3e8405"
   }
  }
 },
 "nbformat": 4,
 "nbformat_minor": 2
}
